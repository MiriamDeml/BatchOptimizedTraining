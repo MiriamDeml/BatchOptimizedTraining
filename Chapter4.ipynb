{
 "cells": [
  {
   "cell_type": "markdown",
   "metadata": {},
   "source": [
    "# 4 Large and Increasing Batch Sizes"
   ]
  },
  {
   "cell_type": "markdown",
   "metadata": {},
   "source": [
    "## 4.1 Experimental Work"
   ]
  },
  {
   "cell_type": "markdown",
   "metadata": {},
   "source": [
    "This section provides more insights about the value of larger batch sizes and increasing batch sizes, as slightly bigger batch sizes like a fixed one of 2048 provide better test errors than the proposed schedule of \n",
    "Smith et al. (1), while having less parameter updates. Therefore this section looks into different ways to increase the batch size during the training and examines the behavior for different initial batch sizes.\n",
    "\n",
    "(1)  Samuel L. Smith, Pieter-Jan Kindermans, and Quoc V. Le. \"Don't Decay the Learning Rate, Increase the Batch Size\". In: CoRR abs/1711.00489 (2017). arXiv: 1711.00489. url: http://arxiv.org/abs/1711.00489 "
   ]
  },
  {
   "cell_type": "markdown",
   "metadata": {},
   "source": [
    "The visualization of the test error as a graph can be done in the Jupyter Notebook _VisualizationGraph.ipynb_"
   ]
  },
  {
   "cell_type": "markdown",
   "metadata": {},
   "source": [
    "A short explanation of the supported options:\n",
    "<blockquote>\n",
    "<p>--batch_size&nbsp;&nbsp;&nbsp;&nbsp;&nbsp;&nbsp;&nbsp;&nbsp;&nbsp;&nbsp;&nbsp;&nbsp;&nbsp;&nbsp;initial batch size, default: 128</p>\n",
    "    \n",
    "<p>--lr&nbsp;&nbsp;&nbsp;&nbsp;&nbsp;&nbsp;&nbsp;&nbsp;&nbsp;&nbsp;&nbsp;&nbsp;&nbsp;&nbsp;&nbsp;&nbsp;&nbsp;&nbsp;&nbsp;&nbsp;&nbsp;&nbsp;&nbsp;&nbsp;&nbsp;&nbsp;&nbsp;&nbsp;&nbsp;initial learning rate, default: 0.1</p>\n",
    "\n",
    "<p>--epochs&nbsp;&nbsp;&nbsp;&nbsp;&nbsp;&nbsp;&nbsp;&nbsp;&nbsp;&nbsp;&nbsp;&nbsp;&nbsp;&nbsp;&nbsp;&nbsp;&nbsp;&nbsp;&nbsp;number of epochs, default: 200</p>\n",
    "\n",
    "<p>--model&nbsp;&nbsp;&nbsp;&nbsp;&nbsp;&nbsp;&nbsp;&nbsp;&nbsp;&nbsp;&nbsp;&nbsp;&nbsp;&nbsp;&nbsp;&nbsp;&nbsp;&nbsp;&nbsp;&nbsp;&nbsp;the network that should be used for training, default: WideResNet 16-4 </p>\n",
    "\n",
    "<p>--dataset&nbsp;&nbsp;&nbsp;&nbsp;&nbsp;&nbsp;&nbsp;&nbsp;&nbsp;&nbsp;&nbsp;&nbsp;&nbsp;&nbsp;&nbsp;&nbsp;&nbsp;&nbsp;&nbsp;the data set on which the model should be trained on, default: CIFAR-10</p>\n",
    "\n",
    "<p>--optimizer&nbsp;&nbsp;&nbsp;&nbsp;&nbsp;&nbsp;&nbsp;&nbsp;&nbsp;&nbsp;&nbsp;&nbsp;&nbsp;&nbsp;&nbsp;&nbsp;the optimizer that should be used, default: SGD</p>\n",
    "\n",
    "<p>--filename&nbsp;&nbsp;&nbsp;&nbsp;&nbsp;&nbsp;&nbsp;&nbsp;&nbsp;&nbsp;&nbsp;&nbsp;&nbsp;&nbsp;&nbsp;&nbsp;&nbsp;the folder in which the log file and files for the visulization should be saved</p>\n",
    "\n",
    "<p>--gpu&nbsp;&nbsp;&nbsp;&nbsp;&nbsp;&nbsp;&nbsp;&nbsp;&nbsp;&nbsp;&nbsp;&nbsp;&nbsp;&nbsp;&nbsp;&nbsp;&nbsp;&nbsp;&nbsp;&nbsp;&nbsp;&nbsp;&nbsp;&nbsp;&nbsp;the gpu that should be used for the training, default: 0</p>\n",
    "\n",
    "<p>--mini_batch_size&nbsp;&nbsp;&nbsp;&nbsp;&nbsp;the size of the mini batch used as part of the Ghost Batch Normalization, default: 128</p>\n",
    "\n",
    "<p>--weight_decay&nbsp;&nbsp;&nbsp;&nbsp;&nbsp;&nbsp;&nbsp;&nbsp;&nbsp;the weight decay for the optimizer, default: 0.0005</p>\n",
    "\n",
    "<p>--momentum&nbsp;&nbsp;&nbsp;&nbsp;&nbsp;&nbsp;&nbsp;&nbsp;&nbsp;&nbsp;&nbsp;&nbsp;&nbsp;the momentum coefficient for SGD, default: 0.9</p>\n",
    "\n",
    "<p>--factor&nbsp;&nbsp;&nbsp;&nbsp;&nbsp;&nbsp;&nbsp;&nbsp;&nbsp;&nbsp;&nbsp;&nbsp;&nbsp;&nbsp;&nbsp;&nbsp;&nbsp;&nbsp;&nbsp;&nbsp;&nbsp;&nbsp;the factor of the batch size increase/learning rate decay, default: 5</p>\n",
    "\n",
    "<p>--LRD&nbsp;&nbsp;&nbsp;&nbsp;&nbsp;&nbsp;&nbsp;&nbsp;&nbsp;&nbsp;&nbsp;&nbsp;&nbsp;&nbsp;&nbsp;&nbsp;&nbsp;&nbsp;&nbsp;&nbsp;&nbsp;&nbsp;&nbsp;&nbsp;&nbsp;if a learning rate decay should be used instead of a batch size increase, default: False</p>\n",
    "\n",
    "<p>--steady&nbsp;&nbsp;&nbsp;&nbsp;&nbsp;&nbsp;&nbsp;&nbsp;&nbsp;&nbsp;&nbsp;&nbsp;&nbsp;&nbsp;&nbsp;&nbsp;&nbsp;&nbsp;&nbsp;&nbsp;if a learning rate decay/batch size increase should be done, default: False</p>\n",
    "\n",
    "<p>--doubleEndFactor&nbsp;&nbsp;&nbsp;if the factor of the BSI should double for the last epochs, default: False</p>\n",
    "\n",
    "<p>--saveState&nbsp;&nbsp;&nbsp;&nbsp;&nbsp;&nbsp;&nbsp;&nbsp;&nbsp;&nbsp;&nbsp;&nbsp;&nbsp;&nbsp;&nbsp;if the states of the training should be saved to enable the visualization of the loss landscape later, default: False</p>\n",
    "\n",
    "<p>--max&nbsp;&nbsp;&nbsp;&nbsp;&nbsp;&nbsp;&nbsp;&nbsp;&nbsp;&nbsp;&nbsp;&nbsp;&nbsp;&nbsp;&nbsp;&nbsp;&nbsp;&nbsp;&nbsp;&nbsp;&nbsp;&nbsp;&nbsp;&nbsp;the maximal batch size to be reached, default: 50000 (CIFAR-10 and CIFAR-100)</p>\n",
    "</blockquote>"
   ]
  },
  {
   "cell_type": "markdown",
   "metadata": {},
   "source": [
    "#### Comparison of an increasing batch size of 128-16000 and a steady batch size of 2048 with learning rate decay"
   ]
  },
  {
   "cell_type": "markdown",
   "metadata": {},
   "source": [
    "Both experiments are also done somewhere else: "
   ]
  },
  {
   "cell_type": "markdown",
   "metadata": {},
   "source": [
    "Original BSI 128: Discussion in Chapter 3"
   ]
  },
  {
   "cell_type": "code",
   "execution_count": null,
   "metadata": {},
   "outputs": [],
   "source": [
    "!python files/main.py --filename 'smith/original/128_01_BSI'"
   ]
  },
  {
   "cell_type": "markdown",
   "metadata": {},
   "source": [
    "LRD 2048: see below in \"Fixed batch sizes with an individual learning rate and learning rate decay\""
   ]
  },
  {
   "cell_type": "code",
   "execution_count": null,
   "metadata": {},
   "outputs": [],
   "source": [
    "!python files/main.py --batch_size 2048 --lr 0.25 --filename 'baselines/fixedBSindividualLR/2048_025' --LRD True --factor 2 --saveState True"
   ]
  },
  {
   "cell_type": "markdown",
   "metadata": {},
   "source": [
    "#### Fixed batch sizes with a steady learning rate of 0.1"
   ]
  },
  {
   "cell_type": "code",
   "execution_count": null,
   "metadata": {},
   "outputs": [],
   "source": [
    "!python files/main.py --batch_size 128 --lr 0.1 --filename 'baselines/fixedBSfixedLR/128' --steady True"
   ]
  },
  {
   "cell_type": "code",
   "execution_count": null,
   "metadata": {},
   "outputs": [],
   "source": [
    "!python files/main.py --batch_size 256 --lr 0.1 --filename 'baselines/fixedBSfixedLR/256' --steady True"
   ]
  },
  {
   "cell_type": "code",
   "execution_count": null,
   "metadata": {},
   "outputs": [],
   "source": [
    "!python files/main.py --batch_size 512 --lr 0.1 --filename 'baselines/fixedBSfixedLR/512' --steady True"
   ]
  },
  {
   "cell_type": "code",
   "execution_count": null,
   "metadata": {},
   "outputs": [],
   "source": [
    "!python files/main.py --batch_size 1024 --lr 0.1 --filename 'baselines/fixedBSfixedLR/1024' --steady True"
   ]
  },
  {
   "cell_type": "code",
   "execution_count": null,
   "metadata": {},
   "outputs": [],
   "source": [
    "!python files/main.py --batch_size 2048 --lr 0.1 --filename 'baselines/fixedBSfixedLR/2048' --steady True"
   ]
  },
  {
   "cell_type": "code",
   "execution_count": null,
   "metadata": {},
   "outputs": [],
   "source": [
    "!python files/main.py --batch_size 4096 --lr 0.1 --filename 'baselines/fixedBSfixedLR/4096' --steady True"
   ]
  },
  {
   "cell_type": "code",
   "execution_count": null,
   "metadata": {},
   "outputs": [],
   "source": [
    "!python files/main.py --batch_size 8192 --lr 0.1 --filename 'baselines/fixedBSfixedLR/8192' --steady True"
   ]
  },
  {
   "cell_type": "code",
   "execution_count": null,
   "metadata": {},
   "outputs": [],
   "source": [
    "!python files/main.py --batch_size 16384 --lr 0.1 --filename 'baselines/fixedBSfixedLR/16384' --steady True"
   ]
  },
  {
   "cell_type": "markdown",
   "metadata": {},
   "source": [
    "#### Fixed batch sizes with an individual learning rate and learning rate decay"
   ]
  },
  {
   "cell_type": "code",
   "execution_count": null,
   "metadata": {},
   "outputs": [],
   "source": [
    "!python files/main.py --batch_size 128 --lr 0.05 --filename 'baselines/fixedBSindividualLR/128_005' --LRD True --factor 2"
   ]
  },
  {
   "cell_type": "code",
   "execution_count": null,
   "metadata": {},
   "outputs": [],
   "source": [
    "!python files/main.py --batch_size 256 --lr 0.09 --filename 'baselines/fixedBSindividualLR/256_009' --LRD True --factor 2"
   ]
  },
  {
   "cell_type": "code",
   "execution_count": null,
   "metadata": {},
   "outputs": [],
   "source": [
    "!python files/main.py --batch_size 512 --lr 0.125 --filename 'baselines/fixedBSindividualLR/512_0125' --LRD True --factor 2"
   ]
  },
  {
   "cell_type": "code",
   "execution_count": null,
   "metadata": {},
   "outputs": [],
   "source": [
    "!python files/main.py --batch_size 1024 --lr 0.155 --filename 'baselines/fixedBSindividualLR/1024_0155' --LRD True --factor 2"
   ]
  },
  {
   "cell_type": "code",
   "execution_count": null,
   "metadata": {},
   "outputs": [],
   "source": [
    "!python files/main.py --batch_size 2048 --lr 0.25 --filename 'baselines/fixedBSindividualLR/2048_025' --LRD True --factor 2 --saveState True"
   ]
  },
  {
   "cell_type": "code",
   "execution_count": null,
   "metadata": {},
   "outputs": [],
   "source": [
    "!python files/main.py --batch_size 4096 --lr 0.5 --filename 'baselines/fixedBSindividualLR/4096_05' --LRD True --factor 2"
   ]
  },
  {
   "cell_type": "code",
   "execution_count": null,
   "metadata": {},
   "outputs": [],
   "source": [
    "!python files/main.py --batch_size 8192 --lr 0.65 --filename 'baselines/fixedBSindividualLR/8192_065' --LRD True --factor 2"
   ]
  },
  {
   "cell_type": "code",
   "execution_count": null,
   "metadata": {},
   "outputs": [],
   "source": [
    "!python files/main.py --batch_size 16384 --lr 1.25 --filename 'baselines/fixedBSindividualLR/16384_125' --LRD True --factor 2"
   ]
  },
  {
   "cell_type": "code",
   "execution_count": null,
   "metadata": {},
   "outputs": [],
   "source": [
    "!python files/main.py --batch_size 32768 --lr 2.75 --filename 'baselines/fixedBSindividualLR/32768_275' --LRD True --factor 2"
   ]
  },
  {
   "cell_type": "code",
   "execution_count": null,
   "metadata": {},
   "outputs": [],
   "source": [
    "!python files/main.py --batch_size 50000 --lr 3.0 --filename 'baselines/fixedBSindividualLR/50000_30' --LRD True --factor 2 --saveState True"
   ]
  },
  {
   "cell_type": "markdown",
   "metadata": {},
   "source": [
    "### 4.1.1 Different initial batch sizes"
   ]
  },
  {
   "cell_type": "markdown",
   "metadata": {},
   "source": [
    "_Note that the LRD schedules for the comparisons can also be taken from directly above._"
   ]
  },
  {
   "cell_type": "code",
   "execution_count": null,
   "metadata": {},
   "outputs": [],
   "source": [
    "!python files/main.py --batch_size 256 --lr 0.09 --filename 'smith/largerBS/256_009_BSI2' --factor 2"
   ]
  },
  {
   "cell_type": "code",
   "execution_count": null,
   "metadata": {},
   "outputs": [],
   "source": [
    "!python files/main.py --batch_size 256 --lr 0.09 --filename 'smith/largerBS/256_009_LRD2' --LRD True --factor 2"
   ]
  },
  {
   "cell_type": "code",
   "execution_count": null,
   "metadata": {},
   "outputs": [],
   "source": [
    "!python files/main.py --batch_size 512 --lr 0.125 --filename 'smith/largerBS/512_0125_BSI2' --factor 2"
   ]
  },
  {
   "cell_type": "code",
   "execution_count": null,
   "metadata": {},
   "outputs": [],
   "source": [
    "!python files/main.py --batch_size 512 --lr 0.125 --filename 'smith/largerBS/512_0125_LRD2' --LRD True --factor 2"
   ]
  },
  {
   "cell_type": "code",
   "execution_count": null,
   "metadata": {},
   "outputs": [],
   "source": [
    "!python files/main.py --batch_size 1024 --lr 0.155 --filename 'smith/largerBS/1024_0155_BSI2' --factor 2"
   ]
  },
  {
   "cell_type": "code",
   "execution_count": null,
   "metadata": {},
   "outputs": [],
   "source": [
    "!python files/main.py --batch_size 1024 --lr 0.155 --filename 'smith/largerBS/1024_0155_LRD2' --LRD True --factor 2"
   ]
  },
  {
   "cell_type": "code",
   "execution_count": null,
   "metadata": {},
   "outputs": [],
   "source": [
    "!python files/main.py --batch_size 2048 --lr 0.25 --filename 'smith/largerBS/2048_025_BSI2' --factor 2 --saveState True"
   ]
  },
  {
   "cell_type": "code",
   "execution_count": null,
   "metadata": {},
   "outputs": [],
   "source": [
    "!python files/main.py --batch_size 2048 --lr 0.25 --filename 'smith/largerBS/2048_025_LRD2' --LRD True --factor 2 --saveState True"
   ]
  },
  {
   "cell_type": "code",
   "execution_count": null,
   "metadata": {},
   "outputs": [],
   "source": [
    "!python files/main.py --batch_size 4096 --lr 0.5 --filename 'smith/largerBS/4096_05_BSI2' --factor 2 --saveState True"
   ]
  },
  {
   "cell_type": "code",
   "execution_count": null,
   "metadata": {},
   "outputs": [],
   "source": [
    "!python files/main.py --batch_size 4096 --lr 0.5 --filename 'smith/largerBS/4096_05_LRD2' --LRD True --factor 2"
   ]
  },
  {
   "cell_type": "code",
   "execution_count": null,
   "metadata": {},
   "outputs": [],
   "source": [
    "!python files/main.py --batch_size 8192 --lr 0.65 --filename 'smith/largerBS/8192_065_BSI2' --factor 2 --saveState True --max 50000"
   ]
  },
  {
   "cell_type": "code",
   "execution_count": null,
   "metadata": {},
   "outputs": [],
   "source": [
    "!python files/main.py --batch_size 8192 --lr 0.65 --filename 'smith/largerBS/8192_065_LRD2' --LRD True --factor 2"
   ]
  },
  {
   "cell_type": "markdown",
   "metadata": {},
   "source": [
    "##### Modified 2048 BSI schedule"
   ]
  },
  {
   "cell_type": "code",
   "execution_count": null,
   "metadata": {},
   "outputs": [],
   "source": [
    "!python files/main.py --batch_size 2048 --lr 0.25 --filename 'smith/largerBS/2048_025_BSI224' --factor 2 --doubleEndFactor True --saveState True"
   ]
  },
  {
   "cell_type": "markdown",
   "metadata": {},
   "source": [
    "### 4.1.2 Loss Dropout"
   ]
  },
  {
   "cell_type": "code",
   "execution_count": null,
   "metadata": {},
   "outputs": [],
   "source": [
    "!python files/lossDropout.py --batch_size 128 --lr 0.05 --filename 'lossDropout/128_005_BSI' --saveState True"
   ]
  },
  {
   "cell_type": "code",
   "execution_count": null,
   "metadata": {},
   "outputs": [],
   "source": [
    "!python files/lossDropout.py --batch_size 128 --lr 0.05 --filename 'lossDropout/128_005_Baseline' --LRD True --saveState True"
   ]
  },
  {
   "cell_type": "markdown",
   "metadata": {},
   "source": [
    "##### Loss Landscape Visualization"
   ]
  },
  {
   "cell_type": "code",
   "execution_count": null,
   "metadata": {},
   "outputs": [],
   "source": [
    "!python plot_surface.py --x=-1:1:51 --y=-1:1:51 --model wrn_164 \\\n",
    "--model_file files/trained_nets/lossDropout/128_005_BSI/model_200.t7 \\\n",
    "--mpi --cuda --dir_type weights --xignore biasbn --xnorm filter --yignore biasbn --ynorm filter --plot"
   ]
  },
  {
   "cell_type": "code",
   "execution_count": null,
   "metadata": {},
   "outputs": [],
   "source": [
    "!python files/plot_surface.py --x=-1:1:51 --y=-1:1:51 --model wrn_164 \\\n",
    "--model_file files/trained_nets/lossDropout/128_005_Baseline/model_200.t7 \\\n",
    "--mpi --cuda --dir_type weights --xignore biasbn --xnorm filter --yignore biasbn --ynorm filter --plot"
   ]
  },
  {
   "cell_type": "markdown",
   "metadata": {},
   "source": [
    "## 4.2 Discussion"
   ]
  },
  {
   "cell_type": "markdown",
   "metadata": {},
   "source": [
    "##### Loss Landscape Visualization"
   ]
  },
  {
   "cell_type": "markdown",
   "metadata": {},
   "source": [
    "2048 - BSI 2 - 2D Plot"
   ]
  },
  {
   "cell_type": "code",
   "execution_count": null,
   "metadata": {},
   "outputs": [],
   "source": [
    "!python files/plot_surface.py --x=-1:1:51 --y=-1:1:51 --model wrn_164 \\\n",
    "--model_file files/trained_nets/smith/largerBS/2048_025_BSI2/model_200.t7 \\\n",
    "--mpi --cuda --dir_type weights --xignore biasbn --xnorm filter --yignore biasbn --ynorm filter --plot"
   ]
  },
  {
   "cell_type": "markdown",
   "metadata": {},
   "source": [
    "4096 - BSI 2 - 2D Plot"
   ]
  },
  {
   "cell_type": "code",
   "execution_count": null,
   "metadata": {},
   "outputs": [],
   "source": [
    "!python files/plot_surface.py --x=-1:1:51 --y=-1:1:51 --model wrn_164 \\\n",
    "--model_file files/trained_nets/smith/largerBS/4096_05_BSI2/model_200.t7 \\\n",
    "--mpi --cuda --dir_type weights --xignore biasbn --xnorm filter --yignore biasbn --ynorm filter --plot"
   ]
  },
  {
   "cell_type": "markdown",
   "metadata": {},
   "source": [
    "2048 - BSI 2,2,4 - 2D Plot"
   ]
  },
  {
   "cell_type": "code",
   "execution_count": null,
   "metadata": {},
   "outputs": [],
   "source": [
    "!python files/plot_surface.py --x=-1:1:51 --y=-1:1:51 --model wrn_164 \\\n",
    "--model_file files/trained_nets/smith/largerBS/2048_025_BSI224/model_200.t7 \\\n",
    "--mpi --cuda --dir_type weights --xignore biasbn --xnorm filter --yignore biasbn --ynorm filter --plot"
   ]
  },
  {
   "cell_type": "markdown",
   "metadata": {},
   "source": [
    "1D visualizations"
   ]
  },
  {
   "cell_type": "markdown",
   "metadata": {},
   "source": [
    "2048:"
   ]
  },
  {
   "cell_type": "code",
   "execution_count": null,
   "metadata": {},
   "outputs": [],
   "source": [
    "!python files/plot_surface.py --mpi --cuda --model wrn_164 --x=-1:1:51 \\\n",
    "--model_file files/trained_nets/smith/largerBS/2048_025_BSI2/model_200.t7 \\\n",
    "--dir_type weights --xnorm filter --xignore biasbn --plot"
   ]
  },
  {
   "cell_type": "code",
   "execution_count": null,
   "metadata": {},
   "outputs": [],
   "source": [
    "!python files/plot_surface.py --mpi --cuda --model wrn_164 --x=-1:1:51 \\\n",
    "--model_file files/trained_nets/smith/largerBS/2048_025_BSI224/model_200.t7 \\\n",
    "--dir_type weights --xnorm filter --xignore biasbn --plot"
   ]
  },
  {
   "cell_type": "code",
   "execution_count": null,
   "metadata": {},
   "outputs": [],
   "source": [
    "!python files/plot_surface.py --mpi --cuda --model wrn_164 --x=-1:1:51 \\\n",
    "--model_file files/trained_nets/baselines/fixedBSindividualLR/2048_025/model_200.t7 \\\n",
    "--dir_type weights --xnorm filter --xignore biasbn --plot"
   ]
  },
  {
   "cell_type": "markdown",
   "metadata": {},
   "source": [
    "128: (training in chapter 3)"
   ]
  },
  {
   "cell_type": "code",
   "execution_count": null,
   "metadata": {},
   "outputs": [],
   "source": [
    "!python files/plot_surface.py --mpi --cuda --model wrn_164 --x=-1:1:51 \\\n",
    "--model_file files/trained_nets/smith/original/128_01_BSI/model_200.t7 \\\n",
    "--dir_type weights --xnorm filter --xignore biasbn --plot"
   ]
  },
  {
   "cell_type": "code",
   "execution_count": null,
   "metadata": {},
   "outputs": [],
   "source": [
    "!python files/plot_surface.py --mpi --cuda --model wrn_164 --x=-1:1:51 \\\n",
    "--model_file files/trained_nets/smith/original/128_01_LRD/model_200.t7 \\\n",
    "--dir_type weights --xnorm filter --xignore biasbn --plot"
   ]
  },
  {
   "cell_type": "markdown",
   "metadata": {},
   "source": [
    "8192:"
   ]
  },
  {
   "cell_type": "code",
   "execution_count": null,
   "metadata": {},
   "outputs": [],
   "source": [
    "!python files/plot_surface.py --mpi --cuda --model wrn_164 --x=-1:1:51 \\\n",
    "--model_file files/trained_nets/smith/largerBS/8192_065_BSI2/model_200.t7 \\\n",
    "--dir_type weights --xnorm filter --xignore biasbn --plot"
   ]
  },
  {
   "cell_type": "code",
   "execution_count": null,
   "metadata": {},
   "outputs": [],
   "source": [
    "!python files/plot_surface.py --mpi --cuda --model wrn_164 --x=-1:1:51 \\\n",
    "--model_file files/trained_nets/baselines/fixedBSindividualLR/2048_025/model_200.t7 \\\n",
    "--dir_type weights --xnorm filter --xignore biasbn --plot"
   ]
  }
 ],
 "metadata": {
  "kernelspec": {
   "display_name": "Python 3",
   "language": "python",
   "name": "python3"
  },
  "language_info": {
   "codemirror_mode": {
    "name": "ipython",
    "version": 3
   },
   "file_extension": ".py",
   "mimetype": "text/x-python",
   "name": "python",
   "nbconvert_exporter": "python",
   "pygments_lexer": "ipython3",
   "version": "3.6.6"
  }
 },
 "nbformat": 4,
 "nbformat_minor": 2
}
