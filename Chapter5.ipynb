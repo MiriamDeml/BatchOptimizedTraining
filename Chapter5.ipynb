{
 "cells": [
  {
   "cell_type": "markdown",
   "metadata": {},
   "source": [
    "# 5 Batch Size Optimization"
   ]
  },
  {
   "cell_type": "markdown",
   "metadata": {},
   "source": [
    "## 5.1 Experimental Work"
   ]
  },
  {
   "cell_type": "markdown",
   "metadata": {},
   "source": [
    "This section describes two approaches, one with the focus on reducing parameter updates, and the other one on improving the test error. The first schedule helps to decrease the test error when a training with large batch sizes is indispensable. The second approach combines small and large batch sizes to achieve a smaller test error than a fixed small batch size could produce."
   ]
  },
  {
   "cell_type": "markdown",
   "metadata": {},
   "source": [
    "The visualization of the test error as a graph can be done in the Jupyter Notebook _VisualizationGraph.ipynb_"
   ]
  },
  {
   "cell_type": "markdown",
   "metadata": {},
   "source": [
    "A short explanation of the supported options for main.py:\n",
    "<blockquote>\n",
    "<p>--batch_size&nbsp;&nbsp;&nbsp;&nbsp;&nbsp;&nbsp;&nbsp;&nbsp;&nbsp;&nbsp;&nbsp;&nbsp;&nbsp;&nbsp;initial batch size, default: 128</p>\n",
    "    \n",
    "<p>--lr&nbsp;&nbsp;&nbsp;&nbsp;&nbsp;&nbsp;&nbsp;&nbsp;&nbsp;&nbsp;&nbsp;&nbsp;&nbsp;&nbsp;&nbsp;&nbsp;&nbsp;&nbsp;&nbsp;&nbsp;&nbsp;&nbsp;&nbsp;&nbsp;&nbsp;&nbsp;&nbsp;&nbsp;&nbsp;initial learning rate, default: 0.1</p>\n",
    "\n",
    "<p>--epochs&nbsp;&nbsp;&nbsp;&nbsp;&nbsp;&nbsp;&nbsp;&nbsp;&nbsp;&nbsp;&nbsp;&nbsp;&nbsp;&nbsp;&nbsp;&nbsp;&nbsp;&nbsp;&nbsp;number of epochs, default: 200</p>\n",
    "\n",
    "<p>--model&nbsp;&nbsp;&nbsp;&nbsp;&nbsp;&nbsp;&nbsp;&nbsp;&nbsp;&nbsp;&nbsp;&nbsp;&nbsp;&nbsp;&nbsp;&nbsp;&nbsp;&nbsp;&nbsp;&nbsp;&nbsp;the network that should be used for training, default: WideResNet 16-4 </p>\n",
    "\n",
    "<p>--dataset&nbsp;&nbsp;&nbsp;&nbsp;&nbsp;&nbsp;&nbsp;&nbsp;&nbsp;&nbsp;&nbsp;&nbsp;&nbsp;&nbsp;&nbsp;&nbsp;&nbsp;&nbsp;&nbsp;the data set on which the model should be trained on, default: CIFAR-10</p>\n",
    "\n",
    "<p>--optimizer&nbsp;&nbsp;&nbsp;&nbsp;&nbsp;&nbsp;&nbsp;&nbsp;&nbsp;&nbsp;&nbsp;&nbsp;&nbsp;&nbsp;&nbsp;&nbsp;the optimizer that should be used, default: SGD</p>\n",
    "\n",
    "<p>--filename&nbsp;&nbsp;&nbsp;&nbsp;&nbsp;&nbsp;&nbsp;&nbsp;&nbsp;&nbsp;&nbsp;&nbsp;&nbsp;&nbsp;&nbsp;&nbsp;&nbsp;the folder in which the log file and files for the visulization should be saved</p>\n",
    "\n",
    "<p>--gpu&nbsp;&nbsp;&nbsp;&nbsp;&nbsp;&nbsp;&nbsp;&nbsp;&nbsp;&nbsp;&nbsp;&nbsp;&nbsp;&nbsp;&nbsp;&nbsp;&nbsp;&nbsp;&nbsp;&nbsp;&nbsp;&nbsp;&nbsp;&nbsp;&nbsp;the gpu that should be used for the training, default: 0</p>\n",
    "\n",
    "<p>--mini_batch_size&nbsp;&nbsp;&nbsp;&nbsp;&nbsp;the size of the mini batch used as part of the Ghost Batch Normalization, default: 128</p>\n",
    "\n",
    "<p>--weight_decay&nbsp;&nbsp;&nbsp;&nbsp;&nbsp;&nbsp;&nbsp;&nbsp;&nbsp;the weight decay for the optimizer, default: 0.0005</p>\n",
    "\n",
    "<p>--momentum&nbsp;&nbsp;&nbsp;&nbsp;&nbsp;&nbsp;&nbsp;&nbsp;&nbsp;&nbsp;&nbsp;&nbsp;&nbsp;the momentum coefficient for SGD, default: 0.9</p>\n",
    "\n",
    "<p>--factor&nbsp;&nbsp;&nbsp;&nbsp;&nbsp;&nbsp;&nbsp;&nbsp;&nbsp;&nbsp;&nbsp;&nbsp;&nbsp;&nbsp;&nbsp;&nbsp;&nbsp;&nbsp;&nbsp;&nbsp;&nbsp;&nbsp;the factor of the batch size increase/learning rate decay, default: 5</p>\n",
    "\n",
    "<p>--LRD&nbsp;&nbsp;&nbsp;&nbsp;&nbsp;&nbsp;&nbsp;&nbsp;&nbsp;&nbsp;&nbsp;&nbsp;&nbsp;&nbsp;&nbsp;&nbsp;&nbsp;&nbsp;&nbsp;&nbsp;&nbsp;&nbsp;&nbsp;&nbsp;&nbsp;if a learning rate decay should be used instead of a batch size increase, default: False</p>\n",
    "\n",
    "<p>--steady&nbsp;&nbsp;&nbsp;&nbsp;&nbsp;&nbsp;&nbsp;&nbsp;&nbsp;&nbsp;&nbsp;&nbsp;&nbsp;&nbsp;&nbsp;&nbsp;&nbsp;&nbsp;&nbsp;&nbsp;if a learning rate decay/batch size increase should be done, default: False</p>\n",
    "\n",
    "<p>--doubleEndFactor&nbsp;&nbsp;&nbsp;if the factor of the BSI should double for the last epochs, default: False</p>\n",
    "\n",
    "<p>--saveState&nbsp;&nbsp;&nbsp;&nbsp;&nbsp;&nbsp;&nbsp;&nbsp;&nbsp;&nbsp;&nbsp;&nbsp;&nbsp;&nbsp;&nbsp;if the states of the training should be saved to enable the visualization of the loss landscape later, default: False</p>\n",
    "\n",
    "<p>--mixedBSI&nbsp;&nbsp;&nbsp;&nbsp;&nbsp;&nbsp;&nbsp;&nbsp;&nbsp;&nbsp;&nbsp;&nbsp;&nbsp;&nbsp;&nbsp;if a mixed batch size increase should be used, default: False</p>\n",
    "<p>--factor1&nbsp;&nbsp;&nbsp;&nbsp;&nbsp;&nbsp;&nbsp;&nbsp;&nbsp;&nbsp;&nbsp;&nbsp;&nbsp;&nbsp;&nbsp;&nbsp;&nbsp;&nbsp;&nbsp;&nbsp;&nbsp;the first factor for the learning rate decay (mixedBSI has to be True), default: 0.25</p>\n",
    "<p>--factor2&nbsp;&nbsp;&nbsp;&nbsp;&nbsp;&nbsp;&nbsp;&nbsp;&nbsp;&nbsp;&nbsp;&nbsp;&nbsp;&nbsp;&nbsp;&nbsp;&nbsp;&nbsp;&nbsp;&nbsp;&nbsp;the second factor for the batch size increase (mixedBSI has to be True), default: 4</p>\n",
    "<p>--factor3&nbsp;&nbsp;&nbsp;&nbsp;&nbsp;&nbsp;&nbsp;&nbsp;&nbsp;&nbsp;&nbsp;&nbsp;&nbsp;&nbsp;&nbsp;&nbsp;&nbsp;&nbsp;&nbsp;&nbsp;&nbsp;the third factor for the batch size increase (mixedBSI has to be True), default: 50</p>\n",
    "\n",
    "<p>--max&nbsp;&nbsp;&nbsp;&nbsp;&nbsp;&nbsp;&nbsp;&nbsp;&nbsp;&nbsp;&nbsp;&nbsp;&nbsp;&nbsp;&nbsp;&nbsp;&nbsp;&nbsp;&nbsp;&nbsp;&nbsp;&nbsp;&nbsp;&nbsp;the maximal batch size to be reached, default: 50000 (CIFAR-10 and CIFAR-100)</p>\n",
    "\n",
    "</blockquote>"
   ]
  },
  {
   "cell_type": "markdown",
   "metadata": {},
   "source": [
    "### 5.1.1 Fast Schedule to a Large Batch Size"
   ]
  },
  {
   "cell_type": "markdown",
   "metadata": {},
   "source": [
    "Schedules for fast increase (fastBSI.py)"
   ]
  },
  {
   "cell_type": "code",
   "execution_count": null,
   "metadata": {},
   "outputs": [],
   "source": [
    "!python files/fastBSI.py --batch_size 128 --lr 0.05 --filename 'fastBSI/max256' --max 256"
   ]
  },
  {
   "cell_type": "code",
   "execution_count": null,
   "metadata": {},
   "outputs": [],
   "source": [
    "!python files/fastBSI.py --batch_size 128 --lr 0.05 --filename 'fastBSI/max512' --max 512"
   ]
  },
  {
   "cell_type": "code",
   "execution_count": null,
   "metadata": {},
   "outputs": [],
   "source": [
    "!python files/fastBSI.py --batch_size 128 --lr 0.05 --filename 'fastBSI/max1024' --max 1024"
   ]
  },
  {
   "cell_type": "code",
   "execution_count": null,
   "metadata": {},
   "outputs": [],
   "source": [
    "!python files/fastBSI.py --batch_size 128 --lr 0.05 --filename 'fastBSI/max2048' --max 2048"
   ]
  },
  {
   "cell_type": "code",
   "execution_count": null,
   "metadata": {},
   "outputs": [],
   "source": [
    "!python files/fastBSI.py --batch_size 128 --lr 0.05 --filename 'fastBSI/max4096' --max 4096"
   ]
  },
  {
   "cell_type": "code",
   "execution_count": null,
   "metadata": {},
   "outputs": [],
   "source": [
    "!python files/fastBSI.py --batch_size 128 --lr 0.05 --filename 'fastBSI/max8192' --max 8192"
   ]
  },
  {
   "cell_type": "code",
   "execution_count": null,
   "metadata": {},
   "outputs": [],
   "source": [
    "!python files/fastBSI.py --batch_size 128 --lr 0.05 --filename 'fastBSI/max16384' --max 16384"
   ]
  },
  {
   "cell_type": "code",
   "execution_count": null,
   "metadata": {},
   "outputs": [],
   "source": [
    "!python files/fastBSI.py --batch_size 128 --lr 0.05 --filename 'fastBSI/max32768' --max 32768"
   ]
  },
  {
   "cell_type": "code",
   "execution_count": null,
   "metadata": {},
   "outputs": [],
   "source": [
    "!python files/fastBSI.py --batch_size 128 --lr 0.05 --filename 'fastBSI/max50000' --max 50000 --saveState True"
   ]
  },
  {
   "cell_type": "markdown",
   "metadata": {},
   "source": [
    "Instant increase (fastBSI.py)"
   ]
  },
  {
   "cell_type": "code",
   "execution_count": null,
   "metadata": {},
   "outputs": [],
   "source": [
    "!python files/fastBSI.py --batch_size 128 --lr 0.05 --filename 'fastBSI/max8192Instant' --max 8192 --instant True"
   ]
  },
  {
   "cell_type": "markdown",
   "metadata": {},
   "source": [
    "### 5.1.2 Combination of Small and Large Batch Sizes"
   ]
  },
  {
   "cell_type": "markdown",
   "metadata": {},
   "source": [
    "Preliminary Mixed Schedule"
   ]
  },
  {
   "cell_type": "code",
   "execution_count": null,
   "metadata": {},
   "outputs": [],
   "source": [
    "!python files/main.py --batch_size 128 --lr 0.1 --filename 'mixedBSI/preliminarySchedule' --mixedBSI True --factor1 5 --factor2 5 --factor3 25"
   ]
  },
  {
   "cell_type": "markdown",
   "metadata": {},
   "source": [
    "Comparison of different factors (examples)"
   ]
  },
  {
   "cell_type": "code",
   "execution_count": null,
   "metadata": {},
   "outputs": [],
   "source": [
    "!python files/main.py --batch_size 128 --lr 0.1 --filename 'mixedBSI/factorComparison/LRD5BSI2/BSI10' --mixedBSI True --factor1 5 --factor2 2 --factor3 10"
   ]
  },
  {
   "cell_type": "code",
   "execution_count": null,
   "metadata": {},
   "outputs": [],
   "source": [
    "!python files/main.py --batch_size 128 --lr 0.1 --filename 'mixedBSI/factorComparison/LRD5BSI3/BSI50' --mixedBSI True --factor1 5 --factor2 3 --factor3 50"
   ]
  },
  {
   "cell_type": "code",
   "execution_count": null,
   "metadata": {},
   "outputs": [],
   "source": [
    "!python files/main.py --batch_size 128 --lr 0.1 --filename 'mixedBSI/factorComparison/LRD4BSI4/BSI50' --mixedBSI True --factor1 4 --factor2 4 --factor3 50"
   ]
  },
  {
   "cell_type": "code",
   "execution_count": null,
   "metadata": {},
   "outputs": [],
   "source": [
    "!python files/main.py --batch_size 128 --lr 0.1 --filename 'mixedBSI/factorComparison/LRD5BSI5/BSI20' --mixedBSI True --factor1 5 --factor2 5 --factor3 20"
   ]
  },
  {
   "cell_type": "markdown",
   "metadata": {},
   "source": [
    "Comparison of different learning rates for the baseline (examples)"
   ]
  },
  {
   "cell_type": "code",
   "execution_count": null,
   "metadata": {},
   "outputs": [],
   "source": [
    "!python files/main.py --batch_size 128 --lr 0.1 --filename 'mixedBSI/Baseline/lrComparison/01LRD5' --LRD True --factor 5"
   ]
  },
  {
   "cell_type": "code",
   "execution_count": null,
   "metadata": {},
   "outputs": [],
   "source": [
    "!python files/main.py --batch_size 128 --lr 0.15 --filename 'mixedBSI/Baseline/lrComparison/015LRD4' --LRD True --factor 4"
   ]
  },
  {
   "cell_type": "markdown",
   "metadata": {},
   "source": [
    "##### Comparison: Baseline - Mixed Schedule - Smith Schedule (examples)"
   ]
  },
  {
   "cell_type": "markdown",
   "metadata": {},
   "source": [
    "Baseline"
   ]
  },
  {
   "cell_type": "code",
   "execution_count": null,
   "metadata": {},
   "outputs": [],
   "source": [
    "!python files/main.py --batch_size 128 --lr 0.1 --filename 'mixedBSI/Baseline/C10W164SGD' --LRD True --factor 5 --saveState True"
   ]
  },
  {
   "cell_type": "code",
   "execution_count": null,
   "metadata": {},
   "outputs": [],
   "source": [
    "!python files/main.py --batch_size 128 --lr 0.1 --filename 'mixedBSI/Baseline/C10W164Adam' --LRD True --factor 5 --optimizer 'adam'"
   ]
  },
  {
   "cell_type": "code",
   "execution_count": null,
   "metadata": {},
   "outputs": [],
   "source": [
    "!python files/main.py --batch_size 128 --lr 0.1 --filename 'mixedBSI/Baseline/MNISTAdadelta' --LRD True --factor 5 --dataset 'mnist' --model 'mnist_f1' --optimizer 'adadelta'"
   ]
  },
  {
   "cell_type": "code",
   "execution_count": null,
   "metadata": {},
   "outputs": [],
   "source": [
    "!python files/main.py --batch_size 128 --lr 0.1 --filename 'mixedBSI/Baseline/FashionMNIST' --LRD True --factor 5 --dataset 'fashionmnist' --model 'mnist_f1'"
   ]
  },
  {
   "cell_type": "code",
   "execution_count": null,
   "metadata": {},
   "outputs": [],
   "source": [
    "!python files/main.py --batch_size 128 --lr 0.1 --filename 'mixedBSI/Baseline/C10R44Adagrad' --LRD True --factor 5 --model 'r44' --optimizer 'adagrad'"
   ]
  },
  {
   "cell_type": "markdown",
   "metadata": {},
   "source": [
    "Mixed Schedule"
   ]
  },
  {
   "cell_type": "code",
   "execution_count": null,
   "metadata": {},
   "outputs": [],
   "source": [
    "!python files/main.py --batch_size 128 --lr 0.1 --filename 'mixedBSI/mixedSchedule/C10W164SGD' --mixedBSI True --factor1 4 --factor2 4 --factor3 50 --saveState True"
   ]
  },
  {
   "cell_type": "code",
   "execution_count": null,
   "metadata": {},
   "outputs": [],
   "source": [
    "!python files/main.py --batch_size 128 --lr 0.1 --filename 'mixedBSI/mixedSchedule/C100W164SGD' --model 'wrn_164_100' --dataset 'CIFAR100' --mixedBSI True --factor1 4 --factor2 4 --factor3 50"
   ]
  },
  {
   "cell_type": "code",
   "execution_count": null,
   "metadata": {},
   "outputs": [],
   "source": [
    "!python files/main.py --batch_size 128 --lr 0.1 --filename 'mixedBSI/mixedSchedule/MNISTAdam' --model 'mnist_f1' --dataset 'mnist' --optimizer 'Adam' --mixedBSI True --factor1 4 --factor2 4 --factor3 50"
   ]
  },
  {
   "cell_type": "code",
   "execution_count": null,
   "metadata": {},
   "outputs": [],
   "source": [
    "!python files/main.py --batch_size 128 --lr 0.1 --filename 'mixedBSI/mixedSchedule/C10R44SGD' --model 'r44' --mixedBSI True --factor1 4 --factor2 4 --factor3 50"
   ]
  },
  {
   "cell_type": "code",
   "execution_count": null,
   "metadata": {},
   "outputs": [],
   "source": [
    "!python files/main.py --batch_size 128 --lr 0.1 --filename 'mixedBSI/mixedSchedule/C10DensenetSGD' --model 'densenet121' --mixedBSI True --factor1 4 --factor2 4 --factor3 50"
   ]
  },
  {
   "cell_type": "markdown",
   "metadata": {},
   "source": [
    "Smith Schedule"
   ]
  },
  {
   "cell_type": "code",
   "execution_count": null,
   "metadata": {},
   "outputs": [],
   "source": [
    "!python files/main.py --batch_size 128 --lr 0.1 --filename 'mixedBSI/SmithSchedule/C10W164SGD' --factor 5"
   ]
  },
  {
   "cell_type": "code",
   "execution_count": null,
   "metadata": {},
   "outputs": [],
   "source": [
    "!python files/main.py --batch_size 128 --lr 0.1 --filename 'mixedBSI/SmithSchedule/C10W164Adagrad' --optimizer 'adagrad' --factor 5"
   ]
  },
  {
   "cell_type": "code",
   "execution_count": null,
   "metadata": {},
   "outputs": [],
   "source": [
    "!python files/main.py --batch_size 128 --lr 0.1 --filename 'mixedBSI/SmithSchedule/MNISTSGD' --model 'mnist_f1' --dataset 'mnist' --factor 5 "
   ]
  },
  {
   "cell_type": "code",
   "execution_count": null,
   "metadata": {},
   "outputs": [],
   "source": [
    "!python files/main.py --batch_size 128 --lr 0.1 --filename 'mixedBSI/SmithSchedule/C100R44SGD' --model 'r44_C100' --dataset 'CIFAR100' --factor 5 "
   ]
  },
  {
   "cell_type": "code",
   "execution_count": null,
   "metadata": {},
   "outputs": [],
   "source": [
    "!python files/main.py --batch_size 128 --lr 0.1 --filename 'mixedBSI/SmithSchedule/C10DensenetSGD' --model 'densenet121' --factor 5 "
   ]
  },
  {
   "cell_type": "markdown",
   "metadata": {},
   "source": [
    "## 5.2 Discussion"
   ]
  },
  {
   "cell_type": "markdown",
   "metadata": {},
   "source": [
    "1D visualization 128-50000 and 50000:"
   ]
  },
  {
   "cell_type": "code",
   "execution_count": null,
   "metadata": {},
   "outputs": [],
   "source": [
    "!python files/plot_surface.py --mpi --cuda --model wrn_164 --x=-1:1:51 \\\n",
    "--model_file files/trained_nets/fastBSI/max50000/model_200.t7 \\\n",
    "--dir_type weights --xnorm filter --xignore biasbn --plot"
   ]
  },
  {
   "cell_type": "markdown",
   "metadata": {},
   "source": [
    "The training for the LRD schedule can be found in chapter 4."
   ]
  },
  {
   "cell_type": "code",
   "execution_count": null,
   "metadata": {},
   "outputs": [],
   "source": [
    "!python files/plot_surface.py --mpi --cuda --model wrn_164 --x=-1:1:51 \\\n",
    "--model_file files/trained_nets/baselines/fixedBSindividualLR/50000_30/model_200.t7 \\\n",
    "--dir_type weights --xnorm filter --xignore biasbn --plot"
   ]
  },
  {
   "cell_type": "markdown",
   "metadata": {},
   "source": [
    "1D visualization Mixed Schedule vs. Baseline"
   ]
  },
  {
   "cell_type": "code",
   "execution_count": null,
   "metadata": {},
   "outputs": [],
   "source": [
    "!python files/plot_surface.py --mpi --cuda --model wrn_164 --x=-1:1:51 \\\n",
    "--model_file files/trained_nets/mixedBSI/mixedSchedule/C10W164SGD/model_200.t7 \\\n",
    "--dir_type weights --xnorm filter --xignore biasbn --plot"
   ]
  },
  {
   "cell_type": "code",
   "execution_count": null,
   "metadata": {},
   "outputs": [],
   "source": [
    "!python files/plot_surface.py --mpi --cuda --model wrn_164 --x=-1:1:51 \\\n",
    "--model_file files/trained_nets/mixedBSI/Baseline/C10W164SGD/model_200.t7 \\\n",
    "--dir_type weights --xnorm filter --xignore biasbn --plot"
   ]
  }
 ],
 "metadata": {
  "kernelspec": {
   "display_name": "Python 3",
   "language": "python",
   "name": "python3"
  },
  "language_info": {
   "codemirror_mode": {
    "name": "ipython",
    "version": 3
   },
   "file_extension": ".py",
   "mimetype": "text/x-python",
   "name": "python",
   "nbconvert_exporter": "python",
   "pygments_lexer": "ipython3",
   "version": "3.6.6"
  }
 },
 "nbformat": 4,
 "nbformat_minor": 2
}
