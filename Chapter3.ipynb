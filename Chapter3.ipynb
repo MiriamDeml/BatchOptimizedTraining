{
 "cells": [
  {
   "cell_type": "markdown",
   "metadata": {},
   "source": [
    "# 3 Simulated Annealing Using the Batch Size"
   ]
  },
  {
   "cell_type": "markdown",
   "metadata": {},
   "source": [
    "## 3.1 Experimental Work"
   ]
  },
  {
   "cell_type": "markdown",
   "metadata": {},
   "source": [
    "In this section three different types of experiments are done. The first one is the exact replication of the set-up of the experiments of Smith et al. (1) that was used to demonstrate that an increasing batch size can be used instead of a decaying learning rate. In the next set of experiments, the factor of the batch size increase and the learning rate decay is changed from the original one of five to a smaller one of two. For the last round in this section, the experiments are repeated with an initial batch size of 1024. \n",
    "\n",
    "(1)  Samuel L. Smith, Pieter-Jan Kindermans, and Quoc V. Le. \"Don't Decay the Learning Rate, Increase the Batch Size\". In: CoRR abs/1711.00489 (2017). arXiv: 1711.00489. url: http://arxiv.org/abs/1711.00489 "
   ]
  },
  {
   "cell_type": "markdown",
   "metadata": {},
   "source": [
    "The visualization of the test error as a graph can be done in the Jupyter Notebook _VisualizationGraph.ipynb_"
   ]
  },
  {
   "cell_type": "markdown",
   "metadata": {},
   "source": [
    "A short explanation of the supported options:\n",
    "<blockquote>\n",
    "<p>--batch_size&nbsp;&nbsp;&nbsp;&nbsp;&nbsp;&nbsp;&nbsp;&nbsp;&nbsp;&nbsp;&nbsp;&nbsp;&nbsp;&nbsp;initial batch size, default: 128</p>\n",
    "    \n",
    "<p>--lr&nbsp;&nbsp;&nbsp;&nbsp;&nbsp;&nbsp;&nbsp;&nbsp;&nbsp;&nbsp;&nbsp;&nbsp;&nbsp;&nbsp;&nbsp;&nbsp;&nbsp;&nbsp;&nbsp;&nbsp;&nbsp;&nbsp;&nbsp;&nbsp;&nbsp;&nbsp;&nbsp;&nbsp;&nbsp;initial learning rate, default: 0.1</p>\n",
    "\n",
    "<p>--epochs&nbsp;&nbsp;&nbsp;&nbsp;&nbsp;&nbsp;&nbsp;&nbsp;&nbsp;&nbsp;&nbsp;&nbsp;&nbsp;&nbsp;&nbsp;&nbsp;&nbsp;&nbsp;&nbsp;number of epochs, default: 200</p>\n",
    "\n",
    "<p>--model&nbsp;&nbsp;&nbsp;&nbsp;&nbsp;&nbsp;&nbsp;&nbsp;&nbsp;&nbsp;&nbsp;&nbsp;&nbsp;&nbsp;&nbsp;&nbsp;&nbsp;&nbsp;&nbsp;&nbsp;&nbsp;the network that should be used for training, default: WideResNet 16-4 </p>\n",
    "\n",
    "<p>--dataset&nbsp;&nbsp;&nbsp;&nbsp;&nbsp;&nbsp;&nbsp;&nbsp;&nbsp;&nbsp;&nbsp;&nbsp;&nbsp;&nbsp;&nbsp;&nbsp;&nbsp;&nbsp;&nbsp;the data set on which the model should be trained on, default: CIFAR-10</p>\n",
    "\n",
    "<p>--optimizer&nbsp;&nbsp;&nbsp;&nbsp;&nbsp;&nbsp;&nbsp;&nbsp;&nbsp;&nbsp;&nbsp;&nbsp;&nbsp;&nbsp;&nbsp;&nbsp;the optimizer that should be used, default: SGD</p>\n",
    "\n",
    "<p>--filename&nbsp;&nbsp;&nbsp;&nbsp;&nbsp;&nbsp;&nbsp;&nbsp;&nbsp;&nbsp;&nbsp;&nbsp;&nbsp;&nbsp;&nbsp;&nbsp;&nbsp;the folder in which the log file and files for the visulization should be saved</p>\n",
    "\n",
    "<p>--gpu&nbsp;&nbsp;&nbsp;&nbsp;&nbsp;&nbsp;&nbsp;&nbsp;&nbsp;&nbsp;&nbsp;&nbsp;&nbsp;&nbsp;&nbsp;&nbsp;&nbsp;&nbsp;&nbsp;&nbsp;&nbsp;&nbsp;&nbsp;&nbsp;&nbsp;the gpu that should be used for the training, default: 0</p>\n",
    "\n",
    "<p>--mini_batch_size&nbsp;&nbsp;&nbsp;&nbsp;&nbsp;the size of the mini batch used as part of the Ghost Batch Normalization, default: 128</p>\n",
    "\n",
    "<p>--weight_decay&nbsp;&nbsp;&nbsp;&nbsp;&nbsp;&nbsp;&nbsp;&nbsp;&nbsp;the weight decay for the optimizer, default: 0.0005</p>\n",
    "\n",
    "<p>--momentum&nbsp;&nbsp;&nbsp;&nbsp;&nbsp;&nbsp;&nbsp;&nbsp;&nbsp;&nbsp;&nbsp;&nbsp;&nbsp;the momentum coefficient for SGD, default: 0.9</p>\n",
    "\n",
    "<p>--factor&nbsp;&nbsp;&nbsp;&nbsp;&nbsp;&nbsp;&nbsp;&nbsp;&nbsp;&nbsp;&nbsp;&nbsp;&nbsp;&nbsp;&nbsp;&nbsp;&nbsp;&nbsp;&nbsp;&nbsp;&nbsp;&nbsp;the factor of the batch size increase/learning rate decay, default: 5</p>\n",
    "\n",
    "<p>--LRD&nbsp;&nbsp;&nbsp;&nbsp;&nbsp;&nbsp;&nbsp;&nbsp;&nbsp;&nbsp;&nbsp;&nbsp;&nbsp;&nbsp;&nbsp;&nbsp;&nbsp;&nbsp;&nbsp;&nbsp;&nbsp;&nbsp;&nbsp;&nbsp;&nbsp;if a learning rate decay should be used instead of a batch size increase, default: False</p>\n",
    "\n",
    "<p>--steady&nbsp;&nbsp;&nbsp;&nbsp;&nbsp;&nbsp;&nbsp;&nbsp;&nbsp;&nbsp;&nbsp;&nbsp;&nbsp;&nbsp;&nbsp;&nbsp;&nbsp;&nbsp;&nbsp;&nbsp;if a learning rate decay/batch size increase should be done, default: False</p>\n",
    "\n",
    "<p>--doubleEndFactor&nbsp;&nbsp;&nbsp;if the factor of the BSI should double for the last epochs, default: False</p>\n",
    "\n",
    "<p>--saveState&nbsp;&nbsp;&nbsp;&nbsp;&nbsp;&nbsp;&nbsp;&nbsp;&nbsp;&nbsp;&nbsp;&nbsp;&nbsp;&nbsp;&nbsp;if the states of the training should be saved to enable the visualization of the loss landscape later, default: False</p>\n",
    "\n",
    "<p>--max&nbsp;&nbsp;&nbsp;&nbsp;&nbsp;&nbsp;&nbsp;&nbsp;&nbsp;&nbsp;&nbsp;&nbsp;&nbsp;&nbsp;&nbsp;&nbsp;&nbsp;&nbsp;&nbsp;&nbsp;&nbsp;&nbsp;&nbsp;&nbsp;the maximal batch size to be reached, default: 50000 (CIFAR-10 and CIFAR-100)</p>\n",
    "\n",
    "</blockquote>"
   ]
  },
  {
   "cell_type": "markdown",
   "metadata": {},
   "source": [
    "### 3.1.1 Replication for different optimizers, networks, and data sets"
   ]
  },
  {
   "cell_type": "markdown",
   "metadata": {},
   "source": [
    "#### BSI (factor 5) and LRD (factor 5)"
   ]
  },
  {
   "cell_type": "code",
   "execution_count": null,
   "metadata": {},
   "outputs": [],
   "source": [
    "!python files/main.py --filename 'smith/original/128_01_Adadelta_BSI' --optimizer 'adadelta'"
   ]
  },
  {
   "cell_type": "code",
   "execution_count": null,
   "metadata": {},
   "outputs": [],
   "source": [
    "!python files/main.py --filename 'smith/original/128_01_Adadelta_LRD' --optimizer 'adadelta' --LRD True"
   ]
  },
  {
   "cell_type": "code",
   "execution_count": null,
   "metadata": {},
   "outputs": [],
   "source": [
    "!python files/main.py --filename 'smith/original/128_01_Adagrad_BSI' --optimizer 'adagrad'"
   ]
  },
  {
   "cell_type": "code",
   "execution_count": null,
   "metadata": {},
   "outputs": [],
   "source": [
    "!python files/main.py --filename 'smith/original/128_01_Adagrad_LRD' --optimizer 'adagrad' --LRD True"
   ]
  },
  {
   "cell_type": "code",
   "execution_count": null,
   "metadata": {},
   "outputs": [],
   "source": [
    "!python files/main.py --filename 'smith/original/128_01_MNIST_BSI' --dataset 'mnist' --model 'mnist_f1'"
   ]
  },
  {
   "cell_type": "code",
   "execution_count": null,
   "metadata": {},
   "outputs": [],
   "source": [
    "!python files/main.py --filename 'smith/original/128_01_MNIST_LRD' --dataset 'mnist' --model 'mnist_f1' --LRD True"
   ]
  },
  {
   "cell_type": "code",
   "execution_count": null,
   "metadata": {},
   "outputs": [],
   "source": [
    "!python files/main.py --filename 'smith/original/128_01_R44_BSI' --model 'r44'"
   ]
  },
  {
   "cell_type": "code",
   "execution_count": null,
   "metadata": {},
   "outputs": [],
   "source": [
    "!python files/main.py --filename 'smith/original/128_01_R44_LRD' --model 'r44' --LRD True"
   ]
  },
  {
   "cell_type": "code",
   "execution_count": null,
   "metadata": {},
   "outputs": [],
   "source": [
    "!python files/main.py --filename 'smith/original/128_01_R44_Adadelta_BSI' --model 'r44' --optimizer 'adadelta'"
   ]
  },
  {
   "cell_type": "code",
   "execution_count": null,
   "metadata": {},
   "outputs": [],
   "source": [
    "!python files/main.py --filename 'smith/original/128_01_R44_Adadelta_LRD' --model 'r44' --optimizer 'adadelta' --LRD True"
   ]
  },
  {
   "cell_type": "code",
   "execution_count": null,
   "metadata": {},
   "outputs": [],
   "source": [
    "!python files/main.py --filename 'smith/original/128_01_R44_Adagrad_BSI' --model 'r44' --optimizer 'adagrad'"
   ]
  },
  {
   "cell_type": "code",
   "execution_count": null,
   "metadata": {},
   "outputs": [],
   "source": [
    "!python files/main.py --filename 'smith/original/128_01_R44_Adagrad_LRD' --model 'r44' --optimizer 'adagrad' --LRD True"
   ]
  },
  {
   "cell_type": "markdown",
   "metadata": {},
   "source": [
    "### 3.1.2 Replication with a Factor of Two for the Increase/Decay"
   ]
  },
  {
   "cell_type": "markdown",
   "metadata": {},
   "source": [
    "#### BSI (factor 2) and LRD (factor 2)"
   ]
  },
  {
   "cell_type": "code",
   "execution_count": null,
   "metadata": {},
   "outputs": [],
   "source": [
    "!python files/main.py --lr 0.04 --filename 'smith/factor2/128_004_Adadelta_BSI' --optimizer 'adadelta' --factor 2 --saveState True"
   ]
  },
  {
   "cell_type": "code",
   "execution_count": null,
   "metadata": {},
   "outputs": [],
   "source": [
    "!python files/main.py --lr 0.04 --filename 'smith/factor2/128_004_Adadelta_LRD' --optimizer 'adadelta' --factor 2 --LRD True"
   ]
  },
  {
   "cell_type": "code",
   "execution_count": null,
   "metadata": {},
   "outputs": [],
   "source": [
    "!python files/main.py --lr 0.04 --filename 'smith/factor2/128_004_Adagrad_BSI' --optimizer 'adagrad' --factor 2"
   ]
  },
  {
   "cell_type": "code",
   "execution_count": null,
   "metadata": {},
   "outputs": [],
   "source": [
    "!python files/main.py --lr 0.04 --filename 'smith/factor2/128_004_Adagrad_LRD' --optimizer 'adagrad' --factor 2 --LRD True"
   ]
  },
  {
   "cell_type": "code",
   "execution_count": null,
   "metadata": {},
   "outputs": [],
   "source": [
    "!python files/main.py --lr 0.04 --filename 'smith/factor2/128_004_MNIST_BSI' --dataset 'mnist' --model 'mnist_f1' --factor 2"
   ]
  },
  {
   "cell_type": "code",
   "execution_count": null,
   "metadata": {},
   "outputs": [],
   "source": [
    "!python files/main.py --lr 0.04 --filename 'smith/factor2/128_004_MNIST_LRD' --dataset 'mnist' --model 'mnist_f1' --factor 2 --LRD True"
   ]
  },
  {
   "cell_type": "code",
   "execution_count": null,
   "metadata": {},
   "outputs": [],
   "source": [
    "!python files/main.py --lr 0.04 --filename 'smith/factor2/128_004_R44_BSI' --model 'r44' --factor 2"
   ]
  },
  {
   "cell_type": "code",
   "execution_count": null,
   "metadata": {},
   "outputs": [],
   "source": [
    "!python files/main.py --lr 0.04 --filename 'smith/factor2/128_004_R44_LRD' --model 'r44' --factor 2 --LRD True"
   ]
  },
  {
   "cell_type": "code",
   "execution_count": null,
   "metadata": {},
   "outputs": [],
   "source": [
    "!python files/main.py --lr 0.04 --filename 'smith/factor2/128_004_R44_Adadelta_BSI' --model 'r44' --optimizer 'adadelta' --factor 2"
   ]
  },
  {
   "cell_type": "code",
   "execution_count": null,
   "metadata": {},
   "outputs": [],
   "source": [
    "!python files/main.py --lr 0.04 --filename 'smith/factor2/128_004_R44_Adadelta_LRD' --model 'r44' --optimizer 'adadelta' --factor 2 --LRD True"
   ]
  },
  {
   "cell_type": "code",
   "execution_count": null,
   "metadata": {},
   "outputs": [],
   "source": [
    "!python files/main.py --lr 0.04 --filename 'smith/factor2/128_004_R44_Adagrad_BSI' --model 'r44' --optimizer 'adagrad' --factor 2"
   ]
  },
  {
   "cell_type": "code",
   "execution_count": null,
   "metadata": {},
   "outputs": [],
   "source": [
    "!python files/main.py --lr 0.04 --filename 'smith/factor2/128_004_R44_Adagrad_LRD' --model 'r44' --optimizer 'adagrad' --factor 2 --LRD True"
   ]
  },
  {
   "cell_type": "markdown",
   "metadata": {},
   "source": [
    "### 3.1.3 Replication with an Initial Batch Size of 1024"
   ]
  },
  {
   "cell_type": "markdown",
   "metadata": {},
   "source": [
    "#### BSI (factor 2) and LRD (factor 2) with an initial batch size of 1024"
   ]
  },
  {
   "cell_type": "code",
   "execution_count": null,
   "metadata": {},
   "outputs": [],
   "source": [
    "!python files/main.py --batch_size 1024 --lr 0.32 --filename 'smith/1024/1024_032_Adadelta_BSI' --optimizer 'adadelta' --factor 2 --saveState True"
   ]
  },
  {
   "cell_type": "code",
   "execution_count": null,
   "metadata": {},
   "outputs": [],
   "source": [
    "!python files/main.py --batch_size 1024 --lr 0.32 --filename 'smith/1024/1024_032_Adadelta_LRD' --optimizer 'adadelta' --factor 2 --LRD True"
   ]
  },
  {
   "cell_type": "code",
   "execution_count": null,
   "metadata": {},
   "outputs": [],
   "source": [
    "!python files/main.py --batch_size 1024 --lr 0.32 --filename 'smith/1024/1024_032_Adagrad_BSI' --optimizer 'adagrad' --factor 2"
   ]
  },
  {
   "cell_type": "code",
   "execution_count": null,
   "metadata": {},
   "outputs": [],
   "source": [
    "!python files/main.py --batch_size 1024 --lr 0.32 --filename 'smith/1024/1024_032_Adagrad_LRD' --optimizer 'adagrad' --factor 2 --LRD True"
   ]
  },
  {
   "cell_type": "code",
   "execution_count": null,
   "metadata": {},
   "outputs": [],
   "source": [
    "!python files/main.py --batch_size 1024 --lr 0.32 --filename 'smith/1024/1024_032_MNIST_BSI' --dataset 'mnist' --model 'mnist_f1' --factor 2"
   ]
  },
  {
   "cell_type": "code",
   "execution_count": null,
   "metadata": {},
   "outputs": [],
   "source": [
    "!python files/main.py --batch_size 1024 --lr 0.32 --filename 'smith/1024/1024_032_MNIST_LRD' --dataset 'mnist' --model 'mnist_f1' --factor 2 --LRD True"
   ]
  },
  {
   "cell_type": "code",
   "execution_count": null,
   "metadata": {},
   "outputs": [],
   "source": [
    "!python files/main.py --batch_size 1024 --lr 0.32 --filename 'smith/1024/1024_032_R44_BSI' --model 'r44' --factor 2"
   ]
  },
  {
   "cell_type": "code",
   "execution_count": null,
   "metadata": {},
   "outputs": [],
   "source": [
    "!python files/main.py --batch_size 1024 --lr 0.32 --filename 'smith/1024/1024_032_R44_LRD' --model 'r44' --factor 2 --LRD True"
   ]
  },
  {
   "cell_type": "code",
   "execution_count": null,
   "metadata": {},
   "outputs": [],
   "source": [
    "!python files/main.py --batch_size 1024 --lr 0.32 --filename 'smith/1024/1024_032_R44_Adadelta_BSI' --model 'r44' --optimizer 'adadelta' --factor 2"
   ]
  },
  {
   "cell_type": "code",
   "execution_count": null,
   "metadata": {},
   "outputs": [],
   "source": [
    "!python files/main.py --batch_size 1024 --lr 0.32 --filename 'smith/1024/1024_032_R44_Adadelta_LRD' --model 'r44' --optimizer 'adadelta' --factor 2 --LRD True"
   ]
  },
  {
   "cell_type": "code",
   "execution_count": null,
   "metadata": {},
   "outputs": [],
   "source": [
    "!python files/main.py --batch_size 1024 --lr 0.32 --filename 'smith/1024/1024_032_R44_Adagrad_BSI' --model 'r44' --optimizer 'adagrad' --factor 2"
   ]
  },
  {
   "cell_type": "code",
   "execution_count": null,
   "metadata": {},
   "outputs": [],
   "source": [
    "!python files/main.py --batch_size 1024 --lr 0.32 --filename 'smith/1024/1024_032_R44_Adagrad_LRD' --model 'r44' --optimizer 'adagrad' --factor 2 --LRD True"
   ]
  },
  {
   "cell_type": "markdown",
   "metadata": {},
   "source": [
    "1024: Adadelta + BSI (factor 2) + resetting the gradients in the epoch 60, 120, 160"
   ]
  },
  {
   "cell_type": "code",
   "execution_count": null,
   "metadata": {},
   "outputs": [],
   "source": [
    "!python files/mainResetGrad.py --batch_size 1024 --lr 0.32 --filename 'smith/1024/1024_032_R44_Adadelta_BSI_resetGrad' --model 'r44' --optimizer 'adadelta' --factor 2"
   ]
  },
  {
   "cell_type": "markdown",
   "metadata": {},
   "source": [
    "## 3.2 Discussion"
   ]
  },
  {
   "cell_type": "markdown",
   "metadata": {},
   "source": [
    "#### Loss landscapes"
   ]
  },
  {
   "cell_type": "markdown",
   "metadata": {},
   "source": [
    "128:"
   ]
  },
  {
   "cell_type": "code",
   "execution_count": null,
   "metadata": {},
   "outputs": [],
   "source": [
    "!python files/main.py --filename 'smith/original/128_01_BSI' --saveState True"
   ]
  },
  {
   "cell_type": "code",
   "execution_count": null,
   "metadata": {},
   "outputs": [],
   "source": [
    "!python files/plot_surface.py --x=-1:1:51 --y=-1:1:51 --model wrn_164 \\\n",
    "--model_file files/trained_nets/smith/original/128_01_BSI/model_200.t7 \\\n",
    "--mpi --cuda --dir_type weights --xignore biasbn --xnorm filter --yignore biasbn --ynorm filter --plot"
   ]
  },
  {
   "cell_type": "code",
   "execution_count": null,
   "metadata": {},
   "outputs": [],
   "source": [
    "!python files/main.py --filename 'smith/original/128_01_LRD' --LRD True --saveState True"
   ]
  },
  {
   "cell_type": "code",
   "execution_count": null,
   "metadata": {},
   "outputs": [],
   "source": [
    "!python files/plot_surface.py --x=-1:1:51 --y=-1:1:51 --model wrn_164 \\\n",
    "--model_file files/trained_nets/smith/original/128_01_LRD/model_200.t7 \\\n",
    "--mpi --cuda --dir_type weights --xignore biasbn --xnorm filter --yignore biasbn --ynorm filter --plot"
   ]
  },
  {
   "cell_type": "markdown",
   "metadata": {},
   "source": [
    "1024:"
   ]
  },
  {
   "cell_type": "code",
   "execution_count": null,
   "metadata": {},
   "outputs": [],
   "source": [
    "!python files/main.py --batch_size 1024 --lr 0.32 --filename 'smith/1024/1024_032_BSI' --factor 2 --saveState True"
   ]
  },
  {
   "cell_type": "code",
   "execution_count": null,
   "metadata": {},
   "outputs": [],
   "source": [
    "!python files/plot_surface.py --x=-1:1:51 --y=-1:1:51 --model wrn_164 \\\n",
    "--model_file files/trained_nets/smith/1024/1024_032_BSI/model_200.t7 \\\n",
    "--mpi --cuda --dir_type weights --xignore biasbn --xnorm filter --yignore biasbn --ynorm filter --plot"
   ]
  },
  {
   "cell_type": "code",
   "execution_count": null,
   "metadata": {},
   "outputs": [],
   "source": [
    "!python files/main.py --batch_size 1024 --lr 0.32 --filename 'smith/1024/1024_032_LRD' --factor 2 --LRD True --saveState True"
   ]
  },
  {
   "cell_type": "code",
   "execution_count": null,
   "metadata": {},
   "outputs": [],
   "source": [
    "!python files/plot_surface.py --x=-1:1:51 --y=-1:1:51 --model wrn_164 \\\n",
    "--model_file files/trained_nets/smith/1024/1024_032_LRD/model_200.t7 \\\n",
    "--mpi --cuda --dir_type weights --xignore biasbn --xnorm filter --yignore biasbn --ynorm filter --plot"
   ]
  },
  {
   "cell_type": "markdown",
   "metadata": {},
   "source": [
    "1D visualizations:"
   ]
  },
  {
   "cell_type": "code",
   "execution_count": null,
   "metadata": {},
   "outputs": [],
   "source": [
    "!python files/plot_surface.py --mpi --cuda --model wrn_164 --x=-1:1:51 \\\n",
    "--model_file files/trained_nets/smith/1024/1024_032_BSI/model_200.t7 \\\n",
    "--dir_type weights --xnorm filter --xignore biasbn --plot"
   ]
  },
  {
   "cell_type": "code",
   "execution_count": null,
   "metadata": {},
   "outputs": [],
   "source": [
    "!python files/plot_surface.py --mpi --cuda --model wrn_164 --x=-1:1:51 \\\n",
    "--model_file files/trained_nets/smith/1024/1024_032_LRD/model_200.t7 \\\n",
    "--dir_type weights --xnorm filter --xignore biasbn --plot"
   ]
  },
  {
   "cell_type": "markdown",
   "metadata": {},
   "source": [
    "Adadelta:"
   ]
  },
  {
   "cell_type": "code",
   "execution_count": null,
   "metadata": {},
   "outputs": [],
   "source": [
    "!python files/plot_surface.py --x=-1:1:51 --y=-1:1:51 --model wrn_164 \\\n",
    "--model_file files/trained_nets/smith/factor2/128_004_Adadelta_BSI/model_200.t7 \\\n",
    "--mpi --cuda --dir_type weights --xignore biasbn --xnorm filter --yignore biasbn --ynorm filter --plot"
   ]
  },
  {
   "cell_type": "code",
   "execution_count": null,
   "metadata": {},
   "outputs": [],
   "source": [
    "!python files/plot_surface.py --x=-1:1:51 --y=-1:1:51 --model wrn_164 \\\n",
    "--model_file files/trained_nets/smith/1024/1024_032_Adadelta_BSI/model_200.t7 \\\n",
    "--mpi --cuda --dir_type weights --xignore biasbn --xnorm filter --yignore biasbn --ynorm filter --plot"
   ]
  }
 ],
 "metadata": {
  "kernelspec": {
   "display_name": "Python 3",
   "language": "python",
   "name": "python3"
  },
  "language_info": {
   "codemirror_mode": {
    "name": "ipython",
    "version": 3
   },
   "file_extension": ".py",
   "mimetype": "text/x-python",
   "name": "python",
   "nbconvert_exporter": "python",
   "pygments_lexer": "ipython3",
   "version": "3.6.6"
  }
 },
 "nbformat": 4,
 "nbformat_minor": 2
}
