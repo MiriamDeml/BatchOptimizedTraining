{
 "cells": [
  {
   "cell_type": "code",
   "execution_count": null,
   "metadata": {},
   "outputs": [],
   "source": [
    "import os\n",
    "import sys\n",
    "import numpy as np\n",
    "import matplotlib.pyplot as plt\n",
    "from matplotlib.lines import Line2D"
   ]
  },
  {
   "cell_type": "code",
   "execution_count": null,
   "metadata": {},
   "outputs": [],
   "source": [
    "logFile1 = \"TODO\"\n",
    "logFile2 = \"TODO\"\n",
    "savePath = \"Plots/\"\n",
    "fileName = \"TODO\""
   ]
  },
  {
   "cell_type": "code",
   "execution_count": null,
   "metadata": {},
   "outputs": [],
   "source": [
    "if not os.path.exists(savePath):\n",
    "    os.makedirs(savePath)"
   ]
  },
  {
   "cell_type": "code",
   "execution_count": null,
   "metadata": {},
   "outputs": [],
   "source": [
    "keep_phrases = [\"test_top1:\"]"
   ]
  },
  {
   "cell_type": "code",
   "execution_count": null,
   "metadata": {},
   "outputs": [],
   "source": [
    "def openFile(infile):\n",
    "    importantLinesError = []\n",
    "    with open(infile) as logFile:\n",
    "        logFile = logFile.readlines()\n",
    "\n",
    "    for line in logFile:\n",
    "        if \"e: 0\" not in line:\n",
    "            for phrase in keep_phrases:\n",
    "                if phrase in line:\n",
    "                        importantLinesError.append(line)\n",
    "                        break \n",
    "    return importantLinesError"
   ]
  },
  {
   "cell_type": "code",
   "execution_count": null,
   "metadata": {},
   "outputs": [],
   "source": [
    "def drawGraph(errors, number):\n",
    "    plt.ylabel('Test Error')\n",
    "    plt.xlabel('Epoch')\n",
    "    xax = list(range(1, 201))\n",
    "    yaxes = []\n",
    "    for i in range(number):\n",
    "        yax = []\n",
    "        # error\n",
    "        for temp in range(200):\n",
    "            lineError = errors[i][temp]\n",
    "            lineError = lineError.split(\"test_top1: \",1)[1]\n",
    "            lineError = lineError.split(\" \", 1)[0]\n",
    "            lineError = float(lineError)\n",
    "            yax.append(lineError)\n",
    "        yaxes.append(yax)\n",
    "        \n",
    "    plt.axvline(60, 0, 60, color='red', ls='--', lw='0.4')\n",
    "    plt.axvline(120, 0, 60, color='red', ls='--', lw='0.4')\n",
    "    plt.axvline(160, 0, 60, color='red', ls='--', lw='0.4')\n",
    "    plt.plot(xax, yaxes[0], 'royalblue', label='TODO')\n",
    "    plt.plot(xax, yaxes[1], 'darkorange', label='TODO')\n",
    "    plt.legend()\n",
    "    plt.savefig(savePath + fileName)"
   ]
  },
  {
   "cell_type": "code",
   "execution_count": null,
   "metadata": {},
   "outputs": [],
   "source": [
    "errors = []\n",
    "# 1\n",
    "importantErrors = openFile(logFile1)\n",
    "errors.append(importantErrors)\n",
    "importantErrors = []\n",
    "# 2\n",
    "importantErrors = openFile(logFile2)\n",
    "errors.append(importantErrors)\n",
    "importantErrors = []\n",
    "\n",
    "drawGraph(errors, len(errors))"
   ]
  }
 ],
 "metadata": {
  "kernelspec": {
   "display_name": "Python 3",
   "language": "python",
   "name": "python3"
  },
  "language_info": {
   "codemirror_mode": {
    "name": "ipython",
    "version": 3
   },
   "file_extension": ".py",
   "mimetype": "text/x-python",
   "name": "python",
   "nbconvert_exporter": "python",
   "pygments_lexer": "ipython3",
   "version": "3.6.6"
  }
 },
 "nbformat": 4,
 "nbformat_minor": 2
}
